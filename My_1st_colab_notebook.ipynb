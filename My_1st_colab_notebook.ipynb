{
  "nbformat": 4,
  "nbformat_minor": 0,
  "metadata": {
    "colab": {
      "name": "My_1st_colab_notebook.ipynb",
      "provenance": [],
      "collapsed_sections": [],
      "toc_visible": true,
      "authorship_tag": "ABX9TyMQ2Z273ShQ2BDWHKQzguPB",
      "include_colab_link": true
    },
    "kernelspec": {
      "name": "python3",
      "display_name": "Python 3"
    },
    "language_info": {
      "name": "python"
    }
  },
  "cells": [
    {
      "cell_type": "markdown",
      "metadata": {
        "id": "view-in-github",
        "colab_type": "text"
      },
      "source": [
        "<a href=\"https://colab.research.google.com/github/Kbehrani/Demo/blob/main/My_1st_colab_notebook.ipynb\" target=\"_parent\"><img src=\"https://colab.research.google.com/assets/colab-badge.svg\" alt=\"Open In Colab\"/></a>"
      ]
    },
    {
      "cell_type": "code",
      "execution_count": null,
      "metadata": {
        "id": "kYJkSWW22ggR"
      },
      "outputs": [],
      "source": [
        ""
      ]
    },
    {
      "cell_type": "markdown",
      "source": [
        "# Import libraries - here we import the ***necessary libraries*** used in this notebook"
      ],
      "metadata": {
        "id": "cx-dwrdrOZTa"
      }
    },
    {
      "cell_type": "markdown",
      "source": [
        "Example text goes in here"
      ],
      "metadata": {
        "id": "Cvoqcd6y2vz4"
      }
    },
    {
      "cell_type": "code",
      "source": [
        "import pandas as pd\n",
        "import seaborn as sns\n",
        "import numpy as np\n",
        "from sklearn import svm\n",
        "\n",
        "\n"
      ],
      "metadata": {
        "id": "ztET9ox-2zO6"
      },
      "execution_count": null,
      "outputs": []
    },
    {
      "cell_type": "markdown",
      "source": [
        "#Heading 1 this represents the contents of this code"
      ],
      "metadata": {
        "id": "HkA4dIToHApd"
      }
    },
    {
      "cell_type": "code",
      "source": [
        "a=1"
      ],
      "metadata": {
        "id": "CFz5Hn9L3eK5"
      },
      "execution_count": null,
      "outputs": []
    },
    {
      "cell_type": "code",
      "source": [
        "b=\"data\""
      ],
      "metadata": {
        "id": "2zK2uLqk3929"
      },
      "execution_count": null,
      "outputs": []
    },
    {
      "cell_type": "code",
      "source": [
        "C=[1,2,3,4,5]"
      ],
      "metadata": {
        "id": "CK5trRvE4B7K"
      },
      "execution_count": null,
      "outputs": []
    },
    {
      "cell_type": "code",
      "source": [
        "D= [\"JOHN\",\"SALLY\",\"JOE\",\"SUSIE\"]"
      ],
      "metadata": {
        "id": "oRkD2EVV4J5m"
      },
      "execution_count": null,
      "outputs": []
    },
    {
      "cell_type": "markdown",
      "source": [
        "## Heading 1.1\n",
        "blah bhah"
      ],
      "metadata": {
        "id": "6T98N-tkGioJ"
      }
    },
    {
      "cell_type": "code",
      "source": [
        "var1=1"
      ],
      "metadata": {
        "id": "03O1k2FFGlwg"
      },
      "execution_count": null,
      "outputs": []
    },
    {
      "cell_type": "markdown",
      "source": [
        "### Heading 1.1.1"
      ],
      "metadata": {
        "id": "WCDE9M_9Guls"
      }
    }
  ]
}
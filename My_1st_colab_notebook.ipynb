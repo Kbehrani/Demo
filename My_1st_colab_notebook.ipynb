{
  "nbformat": 4,
  "nbformat_minor": 0,
  "metadata": {
    "colab": {
      "name": "My_1st_colab_notebook.ipynb",
      "provenance": [],
      "collapsed_sections": [],
      "toc_visible": true,
      "authorship_tag": "ABX9TyPYXJkgbSy/MpHDv0rM7xCm",
      "include_colab_link": true
    },
    "kernelspec": {
      "name": "python3",
      "display_name": "Python 3"
    },
    "language_info": {
      "name": "python"
    }
  },
  "cells": [
    {
      "cell_type": "markdown",
      "metadata": {
        "id": "view-in-github",
        "colab_type": "text"
      },
      "source": [
        "<a href=\"https://colab.research.google.com/github/Kbehrani/Demo/blob/main/My_1st_colab_notebook.ipynb\" target=\"_parent\"><img src=\"https://colab.research.google.com/assets/colab-badge.svg\" alt=\"Open In Colab\"/></a>"
      ]
    },
    {
      "cell_type": "code",
      "execution_count": null,
      "metadata": {
        "id": "kYJkSWW22ggR"
      },
      "outputs": [],
      "source": [
        ""
      ]
    },
    {
      "cell_type": "markdown",
      "source": [
        "# Import libraries - here we import the ***necessary libraries*** used in this notebook\n",
        "\n",
        "\n",
        "Procedures \n",
        "\n",
        "1.   List item\n",
        "2.   List item\n",
        "\n",
        "\n"
      ],
      "metadata": {
        "id": "cx-dwrdrOZTa"
      }
    },
    {
      "cell_type": "markdown",
      "source": [
        "Example text goes in here"
      ],
      "metadata": {
        "id": "Cvoqcd6y2vz4"
      }
    },
    {
      "cell_type": "code",
      "source": [
        "import pandas as pd\n",
        "import seaborn as sns\n",
        "import numpy as np\n",
        "from sklearn import svm\n",
        "import matplotlib as plt\n",
        "\n",
        "\n",
        "! pip install py3dmol"
      ],
      "metadata": {
        "id": "ztET9ox-2zO6",
        "colab": {
          "base_uri": "https://localhost:8080/"
        },
        "outputId": "d40699f8-3b92-45ff-ede7-b33e7fcdc0fd"
      },
      "execution_count": null,
      "outputs": [
        {
          "output_type": "stream",
          "name": "stdout",
          "text": [
            "Collecting py3dmol\n",
            "  Downloading py3Dmol-1.8.0-py2.py3-none-any.whl (6.4 kB)\n",
            "Installing collected packages: py3dmol\n",
            "Successfully installed py3dmol-1.8.0\n"
          ]
        }
      ]
    },
    {
      "cell_type": "code",
      "source": [
        "import py3Dmol\n",
        "p = py3Dmol.view(query='mmtf:1ycr')\n",
        "p.setStyle({'cartoon': {'color':'spectrum'}})\n",
        "p.addStyle({'within':{'distance': 5, 'sel':{'resi':21}}},{'stick':{'colorscheme':'blue'}})"
      ],
      "metadata": {
        "colab": {
          "base_uri": "https://localhost:8080/",
          "height": 514
        },
        "id": "WTcWjqPPSLDo",
        "outputId": "d38e23f1-3b43-460a-9c29-e988a79f60c6"
      },
      "execution_count": null,
      "outputs": [
        {
          "output_type": "display_data",
          "data": {
            "application/3dmoljs_load.v0": "<div id=\"3dmolviewer_1645816209330751\"  style=\"position: relative; width: 640px; height: 480px\">\n        <p id=\"3dmolwarning_1645816209330751\" style=\"background-color:#ffcccc;color:black\">You appear to be running in JupyterLab (or JavaScript failed to load for some other reason).  You need to install the 3dmol extension: <br>\n        <tt>jupyter labextension install jupyterlab_3dmol</tt></p>\n        </div>\n<script>\n\nvar loadScriptAsync = function(uri){\n  return new Promise((resolve, reject) => {\n    var tag = document.createElement('script');\n    tag.src = uri;\n    tag.async = true;\n    tag.onload = () => {\n      resolve();\n    };\n  var firstScriptTag = document.getElementsByTagName('script')[0];\n  firstScriptTag.parentNode.insertBefore(tag, firstScriptTag);\n});\n};\n\nif(typeof $3Dmolpromise === 'undefined') {\n$3Dmolpromise = null;\n  $3Dmolpromise = loadScriptAsync('https://3dmol.org/build/3Dmol.js');\n}\n\nvar viewer_1645816209330751 = null;\nvar warn = document.getElementById(\"3dmolwarning_1645816209330751\");\nif(warn) {\n    warn.parentNode.removeChild(warn);\n}\n$3Dmolpromise.then(function() {\nviewer_1645816209330751 = $3Dmol.createViewer($(\"#3dmolviewer_1645816209330751\"),{backgroundColor:\"white\"});\n$3Dmol.download(\"mmtf:1ycr\", viewer_1645816209330751, {}, function() {\nviewer_1645816209330751.zoomTo();\n\tviewer_1645816209330751.setStyle({\"cartoon\": {\"color\": \"spectrum\"}});\n\tviewer_1645816209330751.addStyle({\"within\": {\"distance\": 5, \"sel\": {\"resi\": 21}}},{\"stick\": {\"colorscheme\": \"blue\"}});\nviewer_1645816209330751.render();\n})\n});\n</script>",
            "text/html": [
              "<div id=\"3dmolviewer_1645816209330751\"  style=\"position: relative; width: 640px; height: 480px\">\n",
              "        <p id=\"3dmolwarning_1645816209330751\" style=\"background-color:#ffcccc;color:black\">You appear to be running in JupyterLab (or JavaScript failed to load for some other reason).  You need to install the 3dmol extension: <br>\n",
              "        <tt>jupyter labextension install jupyterlab_3dmol</tt></p>\n",
              "        </div>\n",
              "<script>\n",
              "\n",
              "var loadScriptAsync = function(uri){\n",
              "  return new Promise((resolve, reject) => {\n",
              "    var tag = document.createElement('script');\n",
              "    tag.src = uri;\n",
              "    tag.async = true;\n",
              "    tag.onload = () => {\n",
              "      resolve();\n",
              "    };\n",
              "  var firstScriptTag = document.getElementsByTagName('script')[0];\n",
              "  firstScriptTag.parentNode.insertBefore(tag, firstScriptTag);\n",
              "});\n",
              "};\n",
              "\n",
              "if(typeof $3Dmolpromise === 'undefined') {\n",
              "$3Dmolpromise = null;\n",
              "  $3Dmolpromise = loadScriptAsync('https://3dmol.org/build/3Dmol.js');\n",
              "}\n",
              "\n",
              "var viewer_1645816209330751 = null;\n",
              "var warn = document.getElementById(\"3dmolwarning_1645816209330751\");\n",
              "if(warn) {\n",
              "    warn.parentNode.removeChild(warn);\n",
              "}\n",
              "$3Dmolpromise.then(function() {\n",
              "viewer_1645816209330751 = $3Dmol.createViewer($(\"#3dmolviewer_1645816209330751\"),{backgroundColor:\"white\"});\n",
              "$3Dmol.download(\"mmtf:1ycr\", viewer_1645816209330751, {}, function() {\n",
              "viewer_1645816209330751.zoomTo();\n",
              "\tviewer_1645816209330751.setStyle({\"cartoon\": {\"color\": \"spectrum\"}});\n",
              "\tviewer_1645816209330751.addStyle({\"within\": {\"distance\": 5, \"sel\": {\"resi\": 21}}},{\"stick\": {\"colorscheme\": \"blue\"}});\n",
              "viewer_1645816209330751.render();\n",
              "})\n",
              "});\n",
              "</script>"
            ]
          },
          "metadata": {}
        },
        {
          "output_type": "execute_result",
          "data": {
            "text/plain": [
              "<py3Dmol.view at 0x7f3f308570d0>"
            ]
          },
          "metadata": {},
          "execution_count": 23
        }
      ]
    },
    {
      "cell_type": "markdown",
      "source": [
        "#Heading 1 this represents the contents of this code"
      ],
      "metadata": {
        "id": "HkA4dIToHApd"
      }
    },
    {
      "cell_type": "code",
      "source": [
        "a=1"
      ],
      "metadata": {
        "id": "CFz5Hn9L3eK5"
      },
      "execution_count": null,
      "outputs": []
    },
    {
      "cell_type": "code",
      "source": [
        "b=\"data\""
      ],
      "metadata": {
        "id": "2zK2uLqk3929"
      },
      "execution_count": null,
      "outputs": []
    },
    {
      "cell_type": "code",
      "source": [
        "C=[1,2,3,4,5]"
      ],
      "metadata": {
        "id": "CK5trRvE4B7K"
      },
      "execution_count": null,
      "outputs": []
    },
    {
      "cell_type": "code",
      "source": [
        "D= [\"JOHN\",\"SALLY\",\"JOE\",\"SUSIE\"]"
      ],
      "metadata": {
        "id": "oRkD2EVV4J5m"
      },
      "execution_count": null,
      "outputs": []
    },
    {
      "cell_type": "markdown",
      "source": [
        "## Heading 1.1\n",
        "blah bhah"
      ],
      "metadata": {
        "id": "6T98N-tkGioJ"
      }
    },
    {
      "cell_type": "code",
      "source": [
        "var1=1"
      ],
      "metadata": {
        "id": "03O1k2FFGlwg"
      },
      "execution_count": null,
      "outputs": []
    },
    {
      "cell_type": "markdown",
      "source": [
        "### Heading 1.1.1"
      ],
      "metadata": {
        "id": "WCDE9M_9Guls"
      }
    }
  ]
}